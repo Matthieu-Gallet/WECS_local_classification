{
 "cells": [
  {
   "cell_type": "code",
   "execution_count": 4,
   "metadata": {},
   "outputs": [
    {
     "name": "stderr",
     "output_type": "stream",
     "text": [
      "<frozen importlib._bootstrap>:241: RuntimeWarning: scipy._lib.messagestream.MessageStream size changed, may indicate binary incompatibility. Expected 56 from C header, got 64 from PyObject\n"
     ]
    }
   ],
   "source": [
    "import sys\n",
    "sys.path.append('../../code/')\n",
    "from geo_tools import *\n",
    "import glob"
   ]
  },
  {
   "cell_type": "code",
   "execution_count": 5,
   "metadata": {},
   "outputs": [
    {
     "data": {
      "text/plain": [
       "['IMAGE_SERIES/Sentinel1_2015_11_18.tif',\n",
       " 'IMAGE_SERIES/Sentinel1_2016_09_25.tif',\n",
       " 'IMAGE_SERIES/Sentinel1_2016_12_06.tif',\n",
       " 'IMAGE_SERIES/Sentinel1_2017_01_23.tif',\n",
       " 'IMAGE_SERIES/Sentinel1_2017_02_24.tif',\n",
       " 'IMAGE_SERIES/Sentinel1_2017_04_05.tif',\n",
       " 'IMAGE_SERIES/Sentinel1_2018_12_20.tif',\n",
       " 'IMAGE_SERIES/Sentinel1_2019_01_01.tif',\n",
       " 'IMAGE_SERIES/Sentinel1_2019_01_13.tif']"
      ]
     },
     "execution_count": 5,
     "metadata": {},
     "output_type": "execute_result"
    }
   ],
   "source": [
    "path = \"IMAGE_SERIES/*.tif\"\n",
    "files = glob.glob(path)\n",
    "files.sort()\n",
    "files"
   ]
  },
  {
   "cell_type": "code",
   "execution_count": 27,
   "metadata": {},
   "outputs": [
    {
     "name": "stdout",
     "output_type": "stream",
     "text": [
      "IMAGE_SERIES/Sentinel1_2015_11_18.tif\n",
      "(279, 487, 2)\n",
      "IMAGE_SERIES/Sentinel1_2016_09_25.tif\n",
      "(279, 487, 2)\n",
      "IMAGE_SERIES/Sentinel1_2016_12_06.tif\n",
      "(279, 487, 2)\n",
      "IMAGE_SERIES/Sentinel1_2017_01_23.tif\n",
      "(279, 487, 2)\n",
      "IMAGE_SERIES/Sentinel1_2017_02_24.tif\n",
      "(279, 487, 2)\n",
      "IMAGE_SERIES/Sentinel1_2017_04_05.tif\n",
      "(279, 487, 2)\n",
      "IMAGE_SERIES/Sentinel1_2018_12_20.tif\n",
      "(279, 487, 2)\n",
      "IMAGE_SERIES/Sentinel1_2019_01_01.tif\n",
      "(279, 487, 2)\n",
      "IMAGE_SERIES/Sentinel1_2019_01_13.tif\n",
      "(279, 487, 2)\n"
     ]
    }
   ],
   "source": [
    "garray=[]\n",
    "geo = []\n",
    "for img in files:\n",
    "    print(img)\n",
    "    arr,ge = load_data(img)\n",
    "    print(arr.shape)\n",
    "    garray.append(arr)\n",
    "    geo.append(ge)\n",
    "\n",
    "garray = np.array(garray, dtype=np.float32)\n",
    "q  = []\n",
    "for i in geo:\n",
    "    q.append(list(i[0]))\n",
    "q = np.array(q)\n",
    "\n",
    "geo = list(geo[0])\n",
    "geo[0] = tuple(np.mean(q, axis=0))\n",
    "geo = tuple(geo)"
   ]
  },
  {
   "cell_type": "code",
   "execution_count": 28,
   "metadata": {},
   "outputs": [
    {
     "data": {
      "text/plain": [
       "((451789.3294204679, 30.0, 0.0, 2759602.407510578, 0.0, -30.0),\n",
       " 'PROJCS[\"WGS 84 / UTM zone 14N\",GEOGCS[\"WGS 84\",DATUM[\"WGS_1984\",SPHEROID[\"WGS 84\",6378137,298.257223563,AUTHORITY[\"EPSG\",\"7030\"]],AUTHORITY[\"EPSG\",\"6326\"]],PRIMEM[\"Greenwich\",0,AUTHORITY[\"EPSG\",\"8901\"]],UNIT[\"degree\",0.0174532925199433,AUTHORITY[\"EPSG\",\"9122\"]],AUTHORITY[\"EPSG\",\"4326\"]],PROJECTION[\"Transverse_Mercator\"],PARAMETER[\"latitude_of_origin\",0],PARAMETER[\"central_meridian\",-99],PARAMETER[\"scale_factor\",0.9996],PARAMETER[\"false_easting\",500000],PARAMETER[\"false_northing\",0],UNIT[\"metre\",1,AUTHORITY[\"EPSG\",\"9001\"]],AXIS[\"Easting\",EAST],AXIS[\"Northing\",NORTH],AUTHORITY[\"EPSG\",\"32614\"]]')"
      ]
     },
     "execution_count": 28,
     "metadata": {},
     "output_type": "execute_result"
    }
   ],
   "source": [
    "geo"
   ]
  },
  {
   "cell_type": "code",
   "execution_count": 29,
   "metadata": {},
   "outputs": [
    {
     "data": {
      "text/plain": [
       "((451794.12043207046, 30.0, 0.0, 2759602.0798867596, 0.0, -30.0),\n",
       " 'PROJCS[\"WGS 84 / UTM zone 14N\",GEOGCS[\"WGS 84\",DATUM[\"WGS_1984\",SPHEROID[\"WGS 84\",6378137,298.257223563,AUTHORITY[\"EPSG\",\"7030\"]],AUTHORITY[\"EPSG\",\"6326\"]],PRIMEM[\"Greenwich\",0,AUTHORITY[\"EPSG\",\"8901\"]],UNIT[\"degree\",0.0174532925199433,AUTHORITY[\"EPSG\",\"9122\"]],AUTHORITY[\"EPSG\",\"4326\"]],PROJECTION[\"Transverse_Mercator\"],PARAMETER[\"latitude_of_origin\",0],PARAMETER[\"central_meridian\",-99],PARAMETER[\"scale_factor\",0.9996],PARAMETER[\"false_easting\",500000],PARAMETER[\"false_northing\",0],UNIT[\"metre\",1,AUTHORITY[\"EPSG\",\"9001\"]],AXIS[\"Easting\",EAST],AXIS[\"Northing\",NORTH],AUTHORITY[\"EPSG\",\"32614\"]]')"
      ]
     },
     "execution_count": 29,
     "metadata": {},
     "output_type": "execute_result"
    }
   ],
   "source": [
    "i"
   ]
  },
  {
   "cell_type": "code",
   "execution_count": 23,
   "metadata": {},
   "outputs": [
    {
     "data": {
      "text/plain": [
       "(451789.3294204679, 30.0, 0.0, 2759602.407510578, 0.0, -30.0)"
      ]
     },
     "execution_count": 23,
     "metadata": {},
     "output_type": "execute_result"
    }
   ],
   "source": [
    "q  = []\n",
    "for i in geo:\n",
    "    q.append(list(i[0]))\n",
    "q = np.array(q)\n",
    "tuple(np.mean(q, axis=0))"
   ]
  },
  {
   "cell_type": "code",
   "execution_count": 25,
   "metadata": {},
   "outputs": [
    {
     "data": {
      "text/plain": [
       "((451783.29990720545, 30.0, 0.0, 2759592.9063342907, 0.0, -30.0),\n",
       " 'PROJCS[\"WGS 84 / UTM zone 14N\",GEOGCS[\"WGS 84\",DATUM[\"WGS_1984\",SPHEROID[\"WGS 84\",6378137,298.257223563,AUTHORITY[\"EPSG\",\"7030\"]],AUTHORITY[\"EPSG\",\"6326\"]],PRIMEM[\"Greenwich\",0,AUTHORITY[\"EPSG\",\"8901\"]],UNIT[\"degree\",0.0174532925199433,AUTHORITY[\"EPSG\",\"9122\"]],AUTHORITY[\"EPSG\",\"4326\"]],PROJECTION[\"Transverse_Mercator\"],PARAMETER[\"latitude_of_origin\",0],PARAMETER[\"central_meridian\",-99],PARAMETER[\"scale_factor\",0.9996],PARAMETER[\"false_easting\",500000],PARAMETER[\"false_northing\",0],UNIT[\"metre\",1,AUTHORITY[\"EPSG\",\"9001\"]],AXIS[\"Easting\",EAST],AXIS[\"Northing\",NORTH],AUTHORITY[\"EPSG\",\"32614\"]]')"
      ]
     },
     "execution_count": 25,
     "metadata": {},
     "output_type": "execute_result"
    }
   ],
   "source": [
    "geo"
   ]
  }
 ],
 "metadata": {
  "kernelspec": {
   "display_name": "deep",
   "language": "python",
   "name": "python3"
  },
  "language_info": {
   "codemirror_mode": {
    "name": "ipython",
    "version": 3
   },
   "file_extension": ".py",
   "mimetype": "text/x-python",
   "name": "python",
   "nbconvert_exporter": "python",
   "pygments_lexer": "ipython3",
   "version": "3.10.4"
  },
  "orig_nbformat": 4
 },
 "nbformat": 4,
 "nbformat_minor": 2
}
